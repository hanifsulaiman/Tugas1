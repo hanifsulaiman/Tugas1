{
  "nbformat": 4,
  "nbformat_minor": 0,
  "metadata": {
    "kernelspec": {
      "display_name": "Python 3",
      "language": "python",
      "name": "python3"
    },
    "language_info": {
      "codemirror_mode": {
        "name": "ipython",
        "version": 3
      },
      "file_extension": ".py",
      "mimetype": "text/x-python",
      "name": "python",
      "nbconvert_exporter": "python",
      "pygments_lexer": "ipython3",
      "version": "3.8.3"
    },
    "colab": {
      "name": "Tugas_GeneticAlgorithmTSP.ipynb",
      "provenance": [],
      "collapsed_sections": []
    }
  },
  "cells": [
    {
      "cell_type": "markdown",
      "metadata": {
        "id": "R-pqgd28NLxe"
      },
      "source": [
        "# A genetic algorithm for optimizing traveling salesman problem (harder case)"
      ]
    },
    {
      "cell_type": "markdown",
      "metadata": {
        "id": "YtmGh0DDNLxq"
      },
      "source": [
        "https://github.com/luthfishahab/geneticalgorithm"
      ]
    },
    {
      "cell_type": "markdown",
      "metadata": {
        "id": "St3GYAx7NLxs"
      },
      "source": [
        "https://www.theprojectspot.com/tutorial-post/applying-a-genetic-algorithm-to-the-travelling-salesman-problem/5"
      ]
    },
    {
      "cell_type": "markdown",
      "metadata": {
        "id": "ldZwt6bgNLxu"
      },
      "source": [
        "![TSP.JPG](attachment:f458e77a-28f8-4e10-9f68-287ba0f3ab9f.JPG)\n",
        "\n",
        "![Exchange.png](attachment:cc1a9c7f-a99d-4c98-9cd1-029e6afc1f0b.png)"
      ]
    },
    {
      "cell_type": "code",
      "metadata": {
        "id": "SEWNttCwNLxw"
      },
      "source": [
        "import numpy as np\n",
        "import pandas as pd\n",
        "import matplotlib.pyplot as plt"
      ],
      "execution_count": 1,
      "outputs": []
    },
    {
      "cell_type": "code",
      "metadata": {
        "id": "Vum6TadMNLxz"
      },
      "source": [
        "x = np.array([0, 20, 40, 100, 100, 100, 80, 60,  0,  0, 40, 40, 60, 50, 30, 90, 10, 20, 60, 80])\n",
        "y = np.array([0,  0,  0,   0,  30,  50, 50, 50, 50, 20, 20, 30, 20, 25, 10, 15, 30, 40, 40, 40])"
      ],
      "execution_count": null,
      "outputs": []
    },
    {
      "cell_type": "code",
      "metadata": {
        "colab": {
          "base_uri": "https://localhost:8080/",
          "height": 265
        },
        "id": "1A91AdA9NLx0",
        "outputId": "2395cc26-653d-451d-c5e6-ea7f7f927789"
      },
      "source": [
        "plt.scatter(x, y)\n",
        "plt.show()"
      ],
      "execution_count": null,
      "outputs": [
        {
          "output_type": "display_data",
          "data": {
            "image/png": "[encoded data removed]",
            "text/plain": [
              "<Figure size 432x288 with 1 Axes>"
            ]
          },
          "metadata": {
            "tags": [],
            "needs_background": "light"
          }
        }
      ]
    },
    {
      "cell_type": "code",
      "metadata": {
        "id": "a2vc4AHKNLx5"
      },
      "source": [
        "# number of cities / points\n",
        "m = len(x)\n",
        "\n",
        "# number of chromosomes in population\n",
        "n = 100\n",
        "\n",
        "# maximum generation\n",
        "N = 200"
      ],
      "execution_count": null,
      "outputs": []
    },
    {
      "cell_type": "code",
      "metadata": {
        "id": "wG_5WHEmOXXd"
      },
      "source": [
        "# distance matrix\n",
        "d = np.array([np.sqrt((x[i] - x)**2 + (y[i] - y)**2) for i in range(m)])"
      ],
      "execution_count": null,
      "outputs": []
    },
    {
      "cell_type": "code",
      "metadata": {
        "id": "NcNsFAw_NLx9"
      },
      "source": [
        "def createPopulation():\n",
        "    pop = np.zeros((n, m), dtype=int)\n",
        "    \n",
        "    for i in range(n):\n",
        "        pop[i] = np.random.permutation(m)\n",
        "    \n",
        "    pop = pd.DataFrame(pop)\n",
        "    \n",
        "    return pop"
      ],
      "execution_count": null,
      "outputs": []
    },
    {
      "cell_type": "code",
      "metadata": {
        "id": "WCZLTSSCNLx_"
      },
      "source": [
        "def fitness(pop):\n",
        "    fitness = np.zeros(n, dtype=int)\n",
        "    \n",
        "    for k in range(n):\n",
        "        a = pop.loc[k]\n",
        "\n",
        "        b = 0\n",
        "        for i in range(0, m-1):\n",
        "            b += d[a[i], a[i+1]]\n",
        "        b += d[a[m-1], a[0]]\n",
        "\n",
        "        fitness[k] = b\n",
        "    \n",
        "    pop['fitness'] = fitness\n",
        "    \n",
        "    return pop"
      ],
      "execution_count": null,
      "outputs": []
    },
    {
      "cell_type": "code",
      "metadata": {
        "id": "sO026I40NLyB"
      },
      "source": [
        "def randomSelection(m):\n",
        "    position = np.random.permutation(m)\n",
        "    \n",
        "    return position[0], position[1]"
      ],
      "execution_count": null,
      "outputs": []
    },
    {
      "cell_type": "code",
      "metadata": {
        "id": "iJNWI-tJNLyC"
      },
      "source": [
        "def crossover(pop):\n",
        "    popc = pop.copy()\n",
        "    for i in range(n):\n",
        "        a, b = randomSelection(m)\n",
        "        idx1 = min(a,b)\n",
        "        idx2 = max(a,b)\n",
        "\n",
        "        temp = list(pop.loc[a][idx1:idx2+1])\n",
        "        temp += [val for val in pop.loc[b] if val not in temp]\n",
        "        \n",
        "        popc.loc[i] = temp\n",
        "    \n",
        "    return popc"
      ],
      "execution_count": null,
      "outputs": []
    },
    {
      "cell_type": "code",
      "metadata": {
        "id": "9qOaInI_NLyD"
      },
      "source": [
        "def mutation(pop):\n",
        "    popm = pop.copy()\n",
        "    \n",
        "    for i in range(n):\n",
        "        a, b = randomSelection(m)\n",
        "        temp = popm.loc[i][a]\n",
        "        popm.loc[i][a] = popm.loc[i][b]\n",
        "        popm.loc[i][b] = temp\n",
        "\n",
        "    return popm"
      ],
      "execution_count": null,
      "outputs": []
    },
    {
      "cell_type": "code",
      "metadata": {
        "id": "wjFlGxMxNLyE"
      },
      "source": [
        "def combinePopulation(pop, popc, popm):\n",
        "    popAll = pop.copy()\n",
        "    popAll = popAll.append(popm)\n",
        "    popAll = popAll.append(popm)\n",
        "\n",
        "    popAll = popAll.drop_duplicates()\n",
        "\n",
        "    popAll.index = range(len(popAll))\n",
        "\n",
        "    return popAll"
      ],
      "execution_count": null,
      "outputs": []
    },
    {
      "cell_type": "code",
      "metadata": {
        "id": "xKhTns_1NLyF"
      },
      "source": [
        "def sort(popAll):\n",
        "    popAll = popAll.sort_values(by=['fitness'])\n",
        "    \n",
        "    popAll.index = range(len(popAll))\n",
        "\n",
        "    return popAll"
      ],
      "execution_count": null,
      "outputs": []
    },
    {
      "cell_type": "code",
      "metadata": {
        "id": "qxFfF4eeNLyG"
      },
      "source": [
        "def elimination(popAll):\n",
        "    pop = popAll.head(n)\n",
        "    \n",
        "    return pop"
      ],
      "execution_count": null,
      "outputs": []
    },
    {
      "cell_type": "code",
      "metadata": {
        "id": "M-QCTIp-NLyG"
      },
      "source": [
        "def plotSolution(pop):\n",
        "    solution = pop.loc[0]\n",
        "    solution = solution.to_numpy()\n",
        "\n",
        "    a = np.zeros(m+1, dtype=int)\n",
        "    b = np.zeros(m+1, dtype=int)\n",
        "\n",
        "    for i in range(m):\n",
        "        a[i] = x[solution[i]]\n",
        "        b[i] = y[solution[i]]\n",
        "\n",
        "    a[m] = a[0]\n",
        "    b[m] = b[0]\n",
        "\n",
        "    plt.plot(a[:-1], b[:-1], marker = 'o')\n",
        "    plt.plot(a[-2:], b[-2:],\"b--\", marker = 'o')\n",
        "    plt.scatter(a[0],b[0],s=200,c=\"b\")\n",
        "    plt.show()"
      ],
      "execution_count": null,
      "outputs": []
    },
    {
      "cell_type": "code",
      "metadata": {
        "colab": {
          "base_uri": "https://localhost:8080/",
          "height": 716
        },
        "id": "G0-NRlODNLyH",
        "outputId": "e538d381-9584-465e-be50-34d9cd99172a"
      },
      "source": [
        "pop = createPopulation()\n",
        "pop = fitness(pop)\n",
        "print('Solusi pada populasi awal')\n",
        "print(pop.head(1))\n",
        "plotSolution(pop)\n",
        "\n",
        "for i in range(1, N+1):\n",
        "    popc = crossover(pop)\n",
        "    popc = fitness(popc)\n",
        "\n",
        "    popm = mutation(popc)\n",
        "    popm = fitness(popm)\n",
        "\n",
        "    popAll = combinePopulation(pop, popc, popm)\n",
        "\n",
        "    popAll = sort(popAll)\n",
        "\n",
        "    pop = elimination(popAll)\n",
        "    \n",
        "print()\n",
        "print('Solusi terbaik pada populasi akhir')\n",
        "print(pop.head(1))\n",
        "plotSolution(pop)"
      ],
      "execution_count": null,
      "outputs": [
        {
          "output_type": "stream",
          "text": [
            "Solusi pada populasi awal\n",
            "    0  1  2  3   4  5   6   7   8  ...  12  13  14  15  16  17  18  19  fitness\n",
            "0  12  1  6  5  13  9  16  10  15  ...   2   4  19   3   0   8  18  17      919\n",
            "\n",
            "[1 rows x 21 columns]\n"
          ],
          "name": "stdout"
        },
        {
          "output_type": "display_data",
          "data": {
            "image/png": "[encoded data removed]",
            "text/plain": [
              "<Figure size 432x288 with 1 Axes>"
            ]
          },
          "metadata": {
            "tags": [],
            "needs_background": "light"
          }
        },
        {
          "output_type": "stream",
          "text": [
            "\n",
            "Solusi terbaik pada populasi akhir\n",
            "    0   1   2   3   4  5  6  7  8  ...  12  13  14  15  16  17  18  19  fitness\n",
            "0  14  10  13  12  15  3  4  5  6  ...  11  17   8  16   9   0   1   2      375\n",
            "\n",
            "[1 rows x 21 columns]\n"
          ],
          "name": "stdout"
        },
        {
          "output_type": "display_data",
          "data": {
            "image/png": "[encoded data removed]",
            "text/plain": [
              "<Figure size 432x288 with 1 Axes>"
            ]
          },
          "metadata": {
            "tags": [],
            "needs_background": "light"
          }
        }
      ]
    },
    {
      "cell_type": "code",
      "metadata": {
        "id": "rw-3FrxnRPOO"
      },
      "source": [
        ""
      ],
      "execution_count": null,
      "outputs": []
    }
  ]
}